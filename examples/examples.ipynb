{
 "cells": [
  {
   "cell_type": "markdown",
   "metadata": {},
   "source": [
    "# Importing library"
   ]
  },
  {
   "cell_type": "code",
   "execution_count": 1,
   "metadata": {
    "ExecuteTime": {
     "end_time": "2021-07-05T22:53:08.260658Z",
     "start_time": "2021-07-05T22:53:07.784251Z"
    }
   },
   "outputs": [],
   "source": [
    "from nnv import NNV"
   ]
  },
  {
   "cell_type": "markdown",
   "metadata": {},
   "source": [
    "# Example #1"
   ]
  },
  {
   "cell_type": "code",
   "execution_count": 2,
   "metadata": {
    "ExecuteTime": {
     "end_time": "2021-07-05T22:53:09.535446Z",
     "start_time": "2021-07-05T22:53:09.312490Z"
    }
   },
   "outputs": [
    {
     "data": {
      "image/png": "[encoded data removed]",
      "text/plain": [
       "<Figure size 432x288 with 1 Axes>"
      ]
     },
     "metadata": {
      "needs_background": "light"
     },
     "output_type": "display_data"
    },
    {
     "data": {
      "text/plain": [
       "(<Figure size 432x288 with 1 Axes>,\n",
       " <matplotlib.axes._subplots.AxesSubplot at 0x11a70eba8>)"
      ]
     },
     "execution_count": 2,
     "metadata": {},
     "output_type": "execute_result"
    }
   ],
   "source": [
    "layersList = [\n",
    "    {\"title\":\"input\\n(relu)\", \"units\": 3, \"color\": \"darkBlue\"},\n",
    "    {\"title\":\"hidden 1\\n(relu)\", \"units\": 3},\n",
    "    {\"title\":\"hidden 2\\n(relu)\", \"units\": 3, \"edges_color\":\"red\", \"edges_width\":2},\n",
    "    {\"title\":\"output\\n(sigmoid)\", \"units\": 1,\"color\": \"darkBlue\"},\n",
    "]\n",
    "\n",
    "NNV(layersList).render(save_to_file=\"my_example_1.png\")"
   ]
  },
  {
   "cell_type": "markdown",
   "metadata": {},
   "source": [
    "# Example #2"
   ]
  },
  {
   "cell_type": "code",
   "execution_count": null,
   "metadata": {
    "ExecuteTime": {
     "end_time": "2021-07-05T22:06:53.306504Z",
     "start_time": "2021-07-05T22:06:51.354226Z"
    }
   },
   "outputs": [],
   "source": [
    "\n",
    "# Let's increase the size of the plot\n",
    "import matplotlib.pyplot as plt\n",
    "plt.rcParams[\"figure.figsize\"] = (200,10)\n",
    "\n",
    "\n",
    "layers_list = [\n",
    "    {\"title\":\"input\\n(relu)\", \"units\": 300, \"color\": \"darkBlue\"},\n",
    "    {\"title\":\"hidden 1\\n(relu)\", \"units\": 150},\n",
    "    {\"title\":\"hidden 2\\n(relu)\",  \"units\": 75},\n",
    "    {\"title\":\"Dropout\\n(0.5)\", \"units\": 75,\"color\":\"lightGray\"},\n",
    "    {\"title\":\"hidden 4\\n(relu)\",  \"units\": 18},\n",
    "    {\"title\":\"hidden 5\\n(relu)\",  \"units\": 9},\n",
    "    {\"title\":\"hidden 6\\n(relu)\",  \"units\": 4},        \n",
    "    {\"title\":\"output\\n(sigmoid)\", \"units\": 1,\"color\": \"darkBlue\"},        \n",
    "]\n",
    "\n",
    "\n",
    "NNV(layers_list, max_num_nodes_visible=8, node_radius=10, spacing_layer=60, font_size=24).render(save_to_file=\"my_example_2.pdf\")"
   ]
  },
  {
   "cell_type": "markdown",
   "metadata": {
    "ExecuteTime": {
     "end_time": "2019-05-21T04:21:49.032525Z",
     "start_time": "2019-05-21T04:21:49.030150Z"
    }
   },
   "source": [
    "# Example #3"
   ]
  },
  {
   "cell_type": "code",
   "execution_count": null,
   "metadata": {
    "ExecuteTime": {
     "end_time": "2021-07-05T22:06:55.203099Z",
     "start_time": "2021-07-05T22:06:53.778277Z"
    }
   },
   "outputs": [],
   "source": [
    "nUnits = 500\n",
    "nLayers = 10\n",
    "layers_list = []\n",
    "\n",
    "layers_list.append({\"title\":f\"input layer\\n{nUnits} units\\n(relu)\", \"units\": nUnits})\n",
    "for i in range(1,nLayers-1):\n",
    "    layers_list.append({\"title\":f\"hidden layer {i}\\n{nUnits} units\\n(relu)\", \"units\": nUnits})\n",
    "layers_list.append({\"title\":\"output layer\\n1 unit\\n(sigmoid)\", \"units\": 1})\n",
    "    \n",
    "NNV(layers_list, max_num_nodes_visible=6, spacing_layer=90, font_size=28).render()"
   ]
  },
  {
   "cell_type": "code",
   "execution_count": null,
   "metadata": {},
   "outputs": [],
   "source": []
  }
 ],
 "metadata": {
  "kernelspec": {
   "display_name": "Python 3",
   "language": "python",
   "name": "python3"
  },
  "language_info": {
   "codemirror_mode": {
    "name": "ipython",
    "version": 3
   },
   "file_extension": ".py",
   "mimetype": "text/x-python",
   "name": "python",
   "nbconvert_exporter": "python",
   "pygments_lexer": "ipython3",
   "version": "3.6.8"
  },
  "toc": {
   "base_numbering": 1,
   "nav_menu": {},
   "number_sections": true,
   "sideBar": true,
   "skip_h1_title": false,
   "title_cell": "Table of Contents",
   "title_sidebar": "Contents",
   "toc_cell": false,
   "toc_position": {},
   "toc_section_display": true,
   "toc_window_display": false
  },
  "varInspector": {
   "cols": {
    "lenName": 16,
    "lenType": 16,
    "lenVar": 40
   },
   "kernels_config": {
    "python": {
     "delete_cmd_postfix": "",
     "delete_cmd_prefix": "del ",
     "library": "var_list.py",
     "varRefreshCmd": "print(var_dic_list())"
    },
    "r": {
     "delete_cmd_postfix": ") ",
     "delete_cmd_prefix": "rm(",
     "library": "var_list.r",
     "varRefreshCmd": "cat(var_dic_list()) "
    }
   },
   "types_to_exclude": [
    "module",
    "function",
    "builtin_function_or_method",
    "instance",
    "_Feature"
   ],
   "window_display": false
  }
 },
 "nbformat": 4,
 "nbformat_minor": 2
}
